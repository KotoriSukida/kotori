{
 "cells": [
  {
   "cell_type": "code",
   "execution_count": 1,
   "metadata": {},
   "outputs": [],
   "source": [
    "import pandas as pd\n",
    "\n",
    "# 读取数据文件\n",
    "df = pd.read_csv('导入订单utf8.csv', encoding='utf-8')"
   ]
  },
  {
   "cell_type": "code",
   "execution_count": 2,
   "metadata": {},
   "outputs": [],
   "source": [
    "# 将发货日期转换为日期类型，并提取出年份\n",
    "df['发货日期'] = pd.to_datetime(df['发货日期'])\n",
    "df['年份'] = df['发货日期'].dt.year\n",
    "\n",
    "# 保留2018年的数据\n",
    "df = df[df['年份'] == 2018]\n"
   ]
  },
  {
   "cell_type": "code",
   "execution_count": 3,
   "metadata": {},
   "outputs": [
    {
     "name": "stdout",
     "output_type": "stream",
     "text": [
      "年TOP3销售额地区：\n",
      "华东：1584339.16\n",
      "中南：1413785.93\n",
      "东北：939853.28\n"
     ]
    }
   ],
   "source": [
    "# 计算年TOP3销售额地区\n",
    "top3_sales_regions = df.groupby('地区')['销售额'].sum().nlargest(3)\n",
    "print('年TOP3销售额地区：')\n",
    "for region, sales in top3_sales_regions.items():\n",
    "    print(f'{region}：{sales:.2f}')\n"
   ]
  },
  {
   "cell_type": "code",
   "execution_count": 4,
   "metadata": {},
   "outputs": [
    {
     "name": "stdout",
     "output_type": "stream",
     "text": [
      "年TOP3数量地区：\n",
      "华东：3810\n",
      "中南：3416\n",
      "东北：2405\n"
     ]
    }
   ],
   "source": [
    "# 计算年TOP3数量地区\n",
    "top3_quantity_regions = df.groupby('地区')['数量'].sum().nlargest(3)\n",
    "print('年TOP3数量地区：')\n",
    "for region, quantity in top3_quantity_regions.items():\n",
    "    print(f'{region}：{quantity}')\n"
   ]
  },
  {
   "cell_type": "code",
   "execution_count": 5,
   "metadata": {},
   "outputs": [
    {
     "name": "stdout",
     "output_type": "stream",
     "text": [
      "年TOP3利润地区：\n",
      "中南：227806.17\n",
      "华东：187010.36\n",
      "华北：140269.86\n"
     ]
    }
   ],
   "source": [
    "# 计算年TOP3利润地区\n",
    "top3_profit_regions = df.groupby('地区')['利润'].sum().nlargest(3)\n",
    "print('年TOP3利润地区：')\n",
    "for region, profit in top3_profit_regions.items():\n",
    "    print(f'{region}：{profit:.2f}')"
   ]
  }
 ],
 "metadata": {
  "kernelspec": {
   "display_name": "Python 3.10.11 64-bit (microsoft store)",
   "language": "python",
   "name": "python3"
  },
  "language_info": {
   "codemirror_mode": {
    "name": "ipython",
    "version": 3
   },
   "file_extension": ".py",
   "mimetype": "text/x-python",
   "name": "python",
   "nbconvert_exporter": "python",
   "pygments_lexer": "ipython3",
   "version": "3.10.11"
  },
  "orig_nbformat": 4,
  "vscode": {
   "interpreter": {
    "hash": "f3870ae22909335ffb99d03b004e44b6e3894268d3408218ef7f641af4ec52d9"
   }
  }
 },
 "nbformat": 4,
 "nbformat_minor": 2
}
