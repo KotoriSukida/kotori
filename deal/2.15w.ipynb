{
 "cells": [
  {
   "cell_type": "code",
   "execution_count": 1,
   "metadata": {},
   "outputs": [
    {
     "name": "stdout",
     "output_type": "stream",
     "text": [
      "各个邮寄方式的平均发货时效如下：\n",
      "邮寄方式\n",
      "一级    848 days 15:11:05.951742624\n",
      "二级    845 days 16:57:38.111824016\n",
      "当日    790 days 16:45:37.190082648\n",
      "标准级   860 days 13:59:31.453197728\n",
      "Name: 发货日期, dtype: timedelta64[ns]\n"
     ]
    }
   ],
   "source": [
    "import pandas as pd\n",
    "\n",
    "# 导入数据\n",
    "data = pd.read_csv('导入订单utf8.csv')\n",
    "\n",
    "# 将邮寄方式转换为文字描述\n",
    "data['邮寄方式'] = data['邮寄方式'].map({1: '标准级', 2: '当日', 3: '一级', 4: '二级'})\n",
    "\n",
    "# 计算每种邮寄方式的平均发货时效\n",
    "shipping_time_by_method = data.groupby('邮寄方式')['发货日期'].apply(lambda x: (pd.to_datetime(x) - pd.to_datetime(x.min())).mean())\n",
    "\n",
    "print(\"各个邮寄方式的平均发货时效如下：\")\n",
    "print(shipping_time_by_method)"
   ]
  }
 ],
 "metadata": {
  "kernelspec": {
   "display_name": "Python 3.10.11 64-bit (microsoft store)",
   "language": "python",
   "name": "python3"
  },
  "language_info": {
   "codemirror_mode": {
    "name": "ipython",
    "version": 3
   },
   "file_extension": ".py",
   "mimetype": "text/x-python",
   "name": "python",
   "nbconvert_exporter": "python",
   "pygments_lexer": "ipython3",
   "version": "3.10.11"
  },
  "orig_nbformat": 4,
  "vscode": {
   "interpreter": {
    "hash": "f3870ae22909335ffb99d03b004e44b6e3894268d3408218ef7f641af4ec52d9"
   }
  }
 },
 "nbformat": 4,
 "nbformat_minor": 2
}
