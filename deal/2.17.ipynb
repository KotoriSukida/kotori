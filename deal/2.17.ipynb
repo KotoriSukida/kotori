{
 "cells": [
  {
   "cell_type": "code",
   "execution_count": 4,
   "metadata": {},
   "outputs": [
    {
     "name": "stdout",
     "output_type": "stream",
     "text": [
      "NaT\n"
     ]
    },
    {
     "name": "stderr",
     "output_type": "stream",
     "text": [
      "C:\\Users\\01\\AppData\\Local\\Temp\\ipykernel_31368\\1409698391.py:11: FutureWarning: Not prepending group keys to the result index of transform-like apply. In the future, the group keys will be included in the index, regardless of whether the applied function returns a like-indexed object.\n",
      "To preserve the previous behavior, use\n",
      "\n",
      "\t>>> .groupby(..., group_keys=False)\n",
      "\n",
      "To adopt the future behavior and silence this warning, use \n",
      "\n",
      "\t>>> .groupby(..., group_keys=True)\n",
      "  mean_delivery_time = grouped['发货日期'].apply(lambda x: (x.max() - x.min()).days).mean()\n"
     ]
    }
   ],
   "source": [
    "import pandas as pd\n",
    "\n",
    "df = pd.read_csv('导入订单utf8.csv')\n",
    "\n",
    "df['发货日期'] = pd.to_datetime(df['发货日期'])\n",
    "df_2018 = df[df['发货日期'].dt.year == 2018]\n",
    "\n",
    "df_standard = df_2018[df_2018['邮寄方式'] == '标准级']\n",
    "grouped = df_standard.groupby('省/自治区')\n",
    "\n",
    "mean_delivery_time = grouped['发货日期'].apply(lambda x: (x.max() - x.min()).days).mean()\n",
    "\n",
    "print(mean_delivery_time)"
   ]
  }
 ],
 "metadata": {
  "kernelspec": {
   "display_name": "Python 3.10.11 64-bit (microsoft store)",
   "language": "python",
   "name": "python3"
  },
  "language_info": {
   "codemirror_mode": {
    "name": "ipython",
    "version": 3
   },
   "file_extension": ".py",
   "mimetype": "text/x-python",
   "name": "python",
   "nbconvert_exporter": "python",
   "pygments_lexer": "ipython3",
   "version": "3.10.11"
  },
  "orig_nbformat": 4,
  "vscode": {
   "interpreter": {
    "hash": "f3870ae22909335ffb99d03b004e44b6e3894268d3408218ef7f641af4ec52d9"
   }
  }
 },
 "nbformat": 4,
 "nbformat_minor": 2
}
