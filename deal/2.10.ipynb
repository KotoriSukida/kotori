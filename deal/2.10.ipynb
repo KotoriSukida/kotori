{
 "cells": [
  {
   "cell_type": "code",
   "execution_count": 5,
   "metadata": {},
   "outputs": [
    {
     "name": "stdout",
     "output_type": "stream",
     "text": [
      "2018年各个产品的销售额、利润分布情况：\n",
      "类别：家具\n",
      "    子类别：椅子，销售额：632911.916，利润：87722.796\n",
      "    子类别：书架，销售额：826332.612，利润：133945.812\n",
      "    子类别：用具，销售额：169770.468，利润：31127.768\n",
      "    子类别：桌子，销售额：349872.019，利润：-65510.501000000004\n",
      "类别：技术\n",
      "    子类别：设备，销售额：326771.032，利润：50524.012\n",
      "    子类别：复印机，销售额：604625.644，利润：62456.044\n",
      "    子类别：配件，销售额：250100.62，利润：34807.08\n",
      "    子类别：电话，销售额：623829.752，利润：92080.632\n",
      "类别：办公用品\n",
      "    子类别：用品，销售额：105327.74，利润：12814.9\n",
      "    子类别：信封，销售额：100120.3，利润：23820.44\n",
      "    子类别：装订机，销售额：94448.06，利润：12451.32\n",
      "    子类别：器具，销售额：742565.264，利润：58257.724\n",
      "    子类别：纸张，销售额：85206.8，利润：19782.56\n",
      "    子类别：系固件，销售额：46102.672，利润：6009.332\n",
      "    子类别：标签，销售额：32976.44，利润：7652.54\n",
      "    子类别：收纳具，销售额：406211.54，利润：112932.26\n",
      "    子类别：美术，销售额：67805.5，利润：-3884.9999999999995\n"
     ]
    }
   ],
   "source": [
    "import pandas as pd\n",
    "\n",
    "# 导入数据\n",
    "file = open('导入订单utf8.csv', 'r', encoding='utf-8')\n",
    "df = pd.read_csv(file, header=0, sep=',', encoding='utf-8', engine='python')\n",
    "\n",
    "# 添加年份列\n",
    "df['发货日期'] = pd.to_datetime(df['发货日期'])\n",
    "df['年份'] = df['发货日期'].dt.year\n",
    "\n",
    "# 按照产品类别和年份分组，计算2018年每个产品类别的销售额、利润总和\n",
    "grouped = df[df['年份'] == 2018].groupby(['类别', '子类别', '年份'])[['销售额', '利润']].sum()\n",
    "\n",
    "# 将结果保存在result字典中\n",
    "result = {}\n",
    "for category in ['家具', '技术', '办公用品']:\n",
    "    subcategories = df[df['类别'] == category]['子类别'].unique()\n",
    "    result[category] = {}\n",
    "    for subcategory in subcategories:\n",
    "        if subcategory not in result[category]:\n",
    "            result[category][subcategory] = {\n",
    "                '销售额': grouped.loc[(category, subcategory, 2018)]['销售额'],\n",
    "                '利润': grouped.loc[(category, subcategory, 2018)]['利润']\n",
    "            }\n",
    "\n",
    "# 输出结果\n",
    "print('2018年各个产品的销售额、利润分布情况：')\n",
    "for category, subcategories in result.items():\n",
    "    print('类别：{}'.format(category))\n",
    "    for subcategory, data in subcategories.items():\n",
    "        print('    子类别：{}，销售额：{}，利润：{}'.format(subcategory, data['销售额'], data['利润']))"
   ]
  }
 ],
 "metadata": {
  "kernelspec": {
   "display_name": "Python 3.10.11 64-bit (microsoft store)",
   "language": "python",
   "name": "python3"
  },
  "language_info": {
   "codemirror_mode": {
    "name": "ipython",
    "version": 3
   },
   "file_extension": ".py",
   "mimetype": "text/x-python",
   "name": "python",
   "nbconvert_exporter": "python",
   "pygments_lexer": "ipython3",
   "version": "3.10.11"
  },
  "orig_nbformat": 4,
  "vscode": {
   "interpreter": {
    "hash": "f3870ae22909335ffb99d03b004e44b6e3894268d3408218ef7f641af4ec52d9"
   }
  }
 },
 "nbformat": 4,
 "nbformat_minor": 2
}
