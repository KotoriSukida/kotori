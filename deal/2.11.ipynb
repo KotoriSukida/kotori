{
 "cells": [
  {
   "cell_type": "code",
   "execution_count": 3,
   "metadata": {},
   "outputs": [
    {
     "name": "stdout",
     "output_type": "stream",
     "text": [
      "2018年的明星单品有：\n",
      "Hamilton Beach 冰箱, 黑色\n",
      "诺基亚 充电器, 混合尺寸\n",
      "摩托罗拉 充电器, 全尺寸\n",
      "诺基亚 充电器, 整包\n",
      "Safco 书库, 传统\n",
      "摩托罗拉 充电器, 混合尺寸\n",
      "Harbour Creations 扶手椅, 每套两件\n",
      "Bush 古典书架, 金属\n",
      "Breville 炉灶, 白色\n",
      "SAFCO 扶手椅, 每套两件\n",
      "办公用品中top5爆款的产品是：\n",
      "KitchenAid 炉灶, 黑色\n",
      "Breville 炉灶, 白色\n",
      "Hamilton Beach 冰箱, 黑色\n",
      "Cuisinart 冰箱, 红色\n",
      "KitchenAid 冰箱, 红色\n",
      "KitchenAid 炉灶, 黑色 的利润情况：技术 - 0.0，家具 - 0.0\n",
      "Breville 炉灶, 白色 的利润情况：技术 - 0.0，家具 - 0.0\n",
      "Hamilton Beach 冰箱, 黑色 的利润情况：技术 - 0.0，家具 - 0.0\n",
      "Cuisinart 冰箱, 红色 的利润情况：技术 - 0.0，家具 - 0.0\n",
      "KitchenAid 冰箱, 红色 的利润情况：技术 - 0.0，家具 - 0.0\n"
     ]
    }
   ],
   "source": [
    "import pandas as pd\n",
    "\n",
    "df = pd.read_csv('导入订单utf8.csv', encoding='utf-8')\n",
    "\n",
    "df_2018 = df[df['发货日期'].str.startswith('2018')]\n",
    "\n",
    "star_products = df_2018.groupby('产品名称')['销售额'].sum().sort_values(ascending=False).head(10).index.tolist()\n",
    "\n",
    "print('2018年的明星单品有：')\n",
    "for product in star_products:\n",
    "    print(product)\n",
    "\n",
    "office_supplies = df[df['类别'] == '办公用品']\n",
    "\n",
    "top5_products = office_supplies.groupby('产品名称')['销售额'].sum().sort_values(ascending=False).head(5).index.tolist()\n",
    "\n",
    "print('办公用品中top5爆款的产品是：')\n",
    "for product in top5_products:\n",
    "    print(product)\n",
    "\n",
    "tech_products = df[df['类别'] == '技术']\n",
    "furniture_products = df[df['类别'] == '家具']\n",
    "\n",
    "for product in top5_products:\n",
    "    profit_tech = tech_products[tech_products['产品名称'] == product]['利润'].sum()\n",
    "    profit_furniture = furniture_products[furniture_products['产品名称'] == product]['利润'].sum()\n",
    "    print('{} 的利润情况：技术 - {}，家具 - {}'.format(product, profit_tech, profit_furniture))"
   ]
  }
 ],
 "metadata": {
  "kernelspec": {
   "display_name": "Python 3.10.11 64-bit (microsoft store)",
   "language": "python",
   "name": "python3"
  },
  "language_info": {
   "codemirror_mode": {
    "name": "ipython",
    "version": 3
   },
   "file_extension": ".py",
   "mimetype": "text/x-python",
   "name": "python",
   "nbconvert_exporter": "python",
   "pygments_lexer": "ipython3",
   "version": "3.10.11"
  },
  "orig_nbformat": 4,
  "vscode": {
   "interpreter": {
    "hash": "f3870ae22909335ffb99d03b004e44b6e3894268d3408218ef7f641af4ec52d9"
   }
  }
 },
 "nbformat": 4,
 "nbformat_minor": 2
}
